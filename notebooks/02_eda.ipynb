import pandas as pd
from sklearn.model_selection import train_test_split
from sklearn.ensemble import RandomForestClassifier
from sklearn.metrics import classification_report

# Load data
df = pd.read_csv("../data/cleaned_data.csv")

# One-hot encode sex
df = pd.get_dummies(df, columns=["sex"], drop_first=True)

# Split data
X = df.drop(columns=["test_result"])
y = df["test_result"]

X_train, X_test, y_train, y_test = train_test_split(X, y, test_size=0.2, random_state=42)

# Train model
model = RandomForestClassifier(n_estimators=100, random_state=42)
model.fit(X_train, y_train)

# Evaluate
y_pred = model.predict(X_test)
print(classification_report(y_test, y_pred))
