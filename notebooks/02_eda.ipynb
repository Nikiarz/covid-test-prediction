import pandas as pd
import seaborn as sns
import matplotlib.pyplot as plt

# Load cleaned data
df = pd.read_csv("../data/cleaned_data.csv")

# Class balance
sns.countplot(x="test_result", data=df)
plt.title("COVID-19 Test Results Count")
plt.xlabel("Test Result (0 = negative, 1 = positive)")
plt.ylabel("Count")
plt.show()

# Age distribution by test result
sns.boxplot(x="test_result", y="age", data=df)
plt.title("Age vs Test Result")
plt.show()

# Correlation heatmap
sns.heatmap(df.corr(), annot=True, cmap="coolwarm")
plt.title("Feature Correlation Heatmap")
plt.show()

