{
 "cells": [
  {
   "cell_type": "code",
   "execution_count": null,
   "metadata": {},
   "outputs": [],
   "source": [
    "import pandas as pd\n",
    "\n",
    "# Load data\n",
    "df = pd.read_csv(\"../data/covid_test_data.csv\")\n",
    "\n",
    "# Convert test_result to binary\n",
    "df[\"test_result\"] = df[\"test_result\"].map({\"negative\": 0, \"positive\": 1})\n",
    "\n",
    "# Show missing values\n",
    "print(\"Missing values per column:\")\n",
    "print(df.isnull().sum())\n",
    "\n",
    "# Save cleaned version\n",
    "df.to_csv(\"../data/cleaned_data.csv\", index=False)\n",
    "print(\"Cleaned data saved.\")"
   ]
  }
 ],
 "metadata": {
  "kernelspec": {
   "display_name": "Python 3",
   "language": "python",
   "name": "python3"
  },
  "language_info": {
   "name": "python",
   "version": "3.8"
  }
 },
 "nbformat": 4,
 "nbformat_minor": 4
}
